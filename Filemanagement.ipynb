{
  "nbformat": 4,
  "nbformat_minor": 0,
  "metadata": {
    "colab": {
      "name": "Filemanagement.ipynb",
      "provenance": [],
      "collapsed_sections": []
    },
    "kernelspec": {
      "name": "python3",
      "display_name": "Python 3"
    },
    "language_info": {
      "name": "python"
    }
  },
  "cells": [
    {
      "cell_type": "code",
      "metadata": {
        "id": "EtN2wYDQZWC1"
      },
      "source": [
        "import os\n",
        "import shutil\n",
        "\n",
        "src = 'D:\\\\folder2'\n",
        "\n",
        "\n",
        "files = os.listdir(src)\n",
        "\n",
        "for i in files:\n",
        "        name, f_ext = os.path.splitext(i)\n",
        "\n",
        "        f_ext = f_ext[1:]\n",
        "        \n",
        "        if f_ext == '':\n",
        "            continue\n",
        "            \n",
        "        if os.path.exists(src+'/'+f_ext):\n",
        "            shutil.move(src+\"/\"+i, src+'/'+f_ext+'/'+i)\n",
        "        else:\n",
        "            os.makedirs(src+'/'+f_ext)\n",
        "            shutil.move(src+'/'+i, src+'/'+f_ext+'/'+i)"
      ],
      "execution_count": null,
      "outputs": []
    }
  ]
}